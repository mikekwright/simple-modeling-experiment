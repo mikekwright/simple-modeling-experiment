{
 "cells": [
  {
   "cell_type": "markdown",
   "metadata": {},
   "source": [
    "SIFT - Scale-Invariant Feature Transform - Part 3\n",
    "============================\n",
    "\n",
    "In the last notebook we took our gaussian blurred images and created difference of gaussian (DoG) representations\n",
    "from the different blur levels.  In this notebook we will be taking the generated DoG results and extracting keypoints\n",
    "that will be used for feature generation in the next slide.  "
   ]
  },
  {
   "cell_type": "code",
   "execution_count": null,
   "metadata": {},
   "outputs": [],
   "source": [
    "# Common Libraries to load\n",
    "import os\n",
    "import cv2\n",
    "\n",
    "import numpy as np\n",
    "import itertools as it\n",
    "\n",
    "from PIL import Image\n",
    "from dataclasses import dataclass\n",
    "from typing import List\n",
    "\n",
    "from modeling.image.sift import octave_creator, convert_octave_opencv_levels_to_pillow, difference_of_gaussian"
   ]
  },
  {
   "cell_type": "markdown",
   "metadata": {},
   "source": [
    "The first thing we are going to do is get our notebook back into the state from the previous notebook, basically\n",
    "so we have our DoG results.  "
   ]
  },
  {
   "cell_type": "code",
   "execution_count": null,
   "metadata": {},
   "outputs": [],
   "source": [
    "#IMAGE_PATH = os.path.join(os.getcwd(), '..', 'raw_data', 'star_wars', 'star-wars-saber.jpg')\n",
    "IMAGE_PATH = os.path.join(os.getcwd(), '..', 'raw_data', 'gaussian', 'gaussian_blur_example.png')\n",
    "#IMAGE_PATH = os.path.join(os.getcwd(), '..', 'raw_data', 'random_images', 'dog', 'dog_06.jpg')\n",
    "\n",
    "original_image = Image.open(IMAGE_PATH)\n",
    "bw_image = original_image.convert('L')\n",
    "bw_octaves = octave_creator(bw_image, up_samples=None)\n",
    "bw_dogs = difference_of_gaussian(bw_octaves)\n",
    "display(convert_octave_opencv_levels_to_pillow(bw_dogs)[0][0])"
   ]
  },
  {
   "cell_type": "markdown",
   "metadata": {},
   "source": [
    "## Finding Maxima/Minima\n",
    "\n",
    "The first thing we are going to want to do is to find the local maxima and minima in the DoG results.  This is accomplished\n",
    "easily by taking a single point and its 26 nearest neighbors with the following breakdown.  \n",
    "\n",
    "1. 9 neighbors from the same point in the layer above the current layer\n",
    "2. 8 directly adjacent members from current layer\n",
    "3. 9 neighbors from the same point in the layer below the current layer\n",
    "\n",
    "In this case you will only consider the selected point to be a minimum or maximum if it is smaller than or greater than\n",
    "all the other neighbors.  \n",
    "\n",
    "**NOTE:** Since this requires a layer to be both above and below, this means that the first and last layers are not even\n",
    "checked, it also means that we will always have 2 less outputs then the DoG levels calculated against.  So in the case of\n",
    "4 DoG layers (created from 5 blur levels) we will have only 2 maxima/minima outputs.  "
   ]
  },
  {
   "cell_type": "code",
   "execution_count": null,
   "metadata": {},
   "outputs": [],
   "source": [
    "def maxima_minima_of_layer(upper_layer, check_layer, lower_layer):\n",
    "    height = len(check_layer)\n",
    "    width = len(check_layer[0])\n",
    "    \n",
    "    def get_layer_values(layer, x, y, include_point=True):\n",
    "        return [\n",
    "            layer[y_i][x_i] for y_i in range(-1, 2) for x_i in range(-1, 2) if x_i != 0 and y_i != 0 and not include_point \n",
    "        ]\n",
    "    \n",
    "    minimas = []\n",
    "    maximas = []\n",
    "    for y in range(1, height-1):\n",
    "        for x in range(1, width-1):\n",
    "            upper_layer_values = get_layer_values(upper_layer, x, y)\n",
    "            lower_layer_values = get_layer_values(lower_layer, x, y)\n",
    "            current_layer_values = get_layer_values(check_layer, x, y, include_point=False)\n",
    "            point_value = check_layer[y][x]\n",
    "            \n",
    "            is_minima = True\n",
    "            is_maxima = True\n",
    "            for n in it.chain(upper_layer_values, lower_layer_values, current_layer_values):\n",
    "                if n <= point_value:\n",
    "                    is_minima = False\n",
    "                \n",
    "                if n >= point_value:\n",
    "                    is_maxima = False\n",
    "                    \n",
    "                if not is_maxima and not is_minima:\n",
    "                    break\n",
    "                    \n",
    "            if is_minima:\n",
    "                minimas.append((x, y, point_value))\n",
    "            if is_maxima:\n",
    "                maximas.append((x, y, point_value))\n",
    "                \n",
    "    return minimas, maximas"
   ]
  },
  {
   "cell_type": "code",
   "execution_count": null,
   "metadata": {},
   "outputs": [],
   "source": [
    "octave_index = 0\n",
    "layer_index = 2\n",
    "\n",
    "minimas, maximas = maxima_minima_of_layer(bw_dogs[octave_index][layer_index-1], \n",
    "                                          bw_dogs[octave_index][layer_index], \n",
    "                                          bw_dogs[octave_index][layer_index+1])\n",
    "\n",
    "print(f'minimas: {len(minimas)}, maximas: {len(maximas)}')"
   ]
  },
  {
   "cell_type": "code",
   "execution_count": null,
   "metadata": {},
   "outputs": [],
   "source": [
    "## Maxima\n",
    "import matplotlib.pyplot as plt\n",
    "\n",
    "fig = plt.figure(num=None, figsize=(10, 10), dpi=80, facecolor='w', edgecolor='k')\n",
    "\n",
    "implot = plt.imshow(original_image)\n",
    "\n",
    "maxima_x = [m[0] for m in maximas]\n",
    "maxima_y = [m[1] for m in maximas]\n",
    "\n",
    "plt.scatter(x=maxima_x, y=maxima_y, c='b', s=1)\n",
    "\n",
    "plt.show()"
   ]
  },
  {
   "cell_type": "code",
   "execution_count": null,
   "metadata": {},
   "outputs": [],
   "source": [
    "## Minima\n",
    "import matplotlib.pyplot as plt\n",
    "\n",
    "fig = plt.figure(num=None, figsize=(10, 10), dpi=80, facecolor='w', edgecolor='k')\n",
    "implot = plt.imshow(original_image)\n",
    "\n",
    "minima_x = [m[0] for m in minimas]\n",
    "minima_y = [m[1] for m in minimas]\n",
    "\n",
    "plt.scatter(x=minima_x, y=minima_y, c='b', s=1)\n",
    "\n",
    "plt.show()"
   ]
  },
  {
   "cell_type": "markdown",
   "metadata": {},
   "source": [
    "## References\n",
    "\n",
    "* [AI Shack - SIFT](http://aishack.in/tutorials/sift-scale-invariant-feature-transform-scale-space/)\n",
    "* [(Whitepaper) - Distinctive Image Features from Scale-Invariant Keypoints](http://www.cs.ubc.ca/~lowe/papers/ijcv04.pdf) "
   ]
  },
  {
   "cell_type": "code",
   "execution_count": null,
   "metadata": {},
   "outputs": [],
   "source": []
  }
 ],
 "metadata": {
  "kernelspec": {
   "display_name": "Python 3",
   "language": "python",
   "name": "python3"
  },
  "language_info": {
   "codemirror_mode": {
    "name": "ipython",
    "version": 3
   },
   "file_extension": ".py",
   "mimetype": "text/x-python",
   "name": "python",
   "nbconvert_exporter": "python",
   "pygments_lexer": "ipython3",
   "version": "3.6.5"
  }
 },
 "nbformat": 4,
 "nbformat_minor": 2
}
