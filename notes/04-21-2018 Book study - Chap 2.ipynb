{
 "cells": [
  {
   "cell_type": "markdown",
   "metadata": {},
   "source": [
    "Elements of Statistical Learning (Chapter 2)\n",
    "=================================\n",
    "\n",
    "For today's notes we are going to go over chapter 2 of the elements of statistical learning.  This will mostly be a collaboration of little notes\n",
    "and items that were gleamed from reading through the materials.  \n",
    "\n",
    "The first thing that is discussed were common words, their definitions and the mathematical notation used in the book.  Let's start with\n",
    "some definitions.  "
   ]
  },
  {
   "cell_type": "markdown",
   "metadata": {},
   "source": [
    "## Definitions\n",
    "\n",
    "- **predictor** - This is an input into the model used to determine outputs\n",
    "  - *independent variable* - More classical\n",
    "  - *feature* - USed in pattern recognition\n",
    "- **responses** - The output of a model\n",
    "  - *dependent variable* - More classical\n",
    "- **quantitative** - Results that falls in a range\n",
    "- **qualitative** - Results that fall in a discrete set of possibilities\n",
    "- **regression** - Model whose output is **quantitative**\n",
    "- **classification** - Model whose output is **qualitative**\n",
    "- **fit** - Create a model that *fits* to the training data supplied\n",
    "- **dummy variables** - These are inputs from a categorical source where each unique value is turned into a predictor, with only one of the predictors being on at a time. "
   ]
  },
  {
   "cell_type": "markdown",
   "metadata": {},
   "source": [
    "## Notation\n",
    "\n",
    "- ${X}$ - A vector of inputs\n",
    "  - ${X}_j$ - The $j$th element of vector ${X}$\n",
    "- ${Y}$ - A **quantitative** output\n",
    "  - $\\hat{Y}$ - A Predicted **quantitative** output\n",
    "- ${G}$ - A **qualitative** output\n",
    "  - $\\hat{G}$ - A Predicted **qualitative** output\n",
    "- $\\boldsymbol{X}$ - A matrix in the form $({N} \\times {p})$"
   ]
  },
  {
   "cell_type": "markdown",
   "metadata": {},
   "source": [
    "## Linear model and Least Squares\n",
    "\n",
    "The first model that they introduce in the chapter is a linear model that uses least squares.   \n",
    "\n",
    ">On a side note there was a discussion that I had with a co-worker previously where one important realization was made.  There are a number of different models,\n",
    ">and for the most part they are linear models.  The name linear regression doesn't mean that it is the only one solving for a linear solution, instead its name implies\n",
    ">the method that is used to **fit** the data to the model.  \n",
    ">\n",
    ">This means that models such as *linear regression*, *logistic regression* and even a *single-layer perceptron* are all going to create an estimation function that is\n",
    ">linear in nature.  (In theory they could all end up with the same function if the data and solution are perfect).  Later I am going to attempt to prove that.  "
   ]
  },
  {
   "cell_type": "code",
   "execution_count": null,
   "metadata": {},
   "outputs": [],
   "source": []
  }
 ],
 "metadata": {
  "kernelspec": {
   "display_name": "Python 3",
   "language": "python",
   "name": "python3"
  },
  "language_info": {
   "codemirror_mode": {
    "name": "ipython",
    "version": 3
   },
   "file_extension": ".py",
   "mimetype": "text/x-python",
   "name": "python",
   "nbconvert_exporter": "python",
   "pygments_lexer": "ipython3",
   "version": "3.6.5"
  }
 },
 "nbformat": 4,
 "nbformat_minor": 2
}
