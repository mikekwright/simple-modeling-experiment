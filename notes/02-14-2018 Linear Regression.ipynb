{
 "cells": [
  {
   "cell_type": "markdown",
   "metadata": {},
   "source": [
    "## Linear Regression (2 variable test)\n",
    "\n",
    "Today I am going to take a look at linear regression, and how to calculate it working against the iris dataset\n",
    "has been used in the last study group. \n",
    "\n",
    "**Note: most of the contents of this notebook were created after following along with \n",
    "[this video](https://www.youtube.com/watch?v=Qa2APhWjQPc)**\n",
    "\n",
    "Relationship between 2 or more variables.  \n",
    " - Independant variable and dependant variable\n",
    " \n",
    "Lets start by loading common library pieces. "
   ]
  },
  {
   "cell_type": "code",
   "execution_count": 1,
   "metadata": {},
   "outputs": [],
   "source": [
    "import matplotlib.pyplot as plt\n",
    "\n",
    "%matplotlib inline"
   ]
  },
  {
   "cell_type": "markdown",
   "metadata": {},
   "source": [
    "Now we can load the iris dataset. "
   ]
  },
  {
   "cell_type": "code",
   "execution_count": 2,
   "metadata": {},
   "outputs": [],
   "source": [
    "import os\n",
    "import json\n",
    "import random\n",
    "\n",
    "from pprint import pprint\n",
    "\n",
    "data_dir = os.path.join('..', 'raw_data', 'iris')\n",
    "dataset_filename = os.path.join(data_dir, 'iris_data.json')\n",
    "\n",
    "with open(dataset_filename, 'r') as iris_file:\n",
    "    iris_data = json.load(iris_file)\n",
    "    \n",
    "random.seed(42)\n",
    "random.shuffle(iris_data)\n",
    "    \n",
    "#pprint(iris_data[:1])\n",
    "#[{'petal_length': 1.4,\n",
    "#  'petal_width': 0.2,\n",
    "#  'sepal_length': 5.1,\n",
    "#  'sepal_width': 3.5,\n",
    "#  'species': 'Iris-setosa'}]"
   ]
  },
  {
   "cell_type": "markdown",
   "metadata": {},
   "source": [
    "### Data Analysis\n",
    "\n",
    "We aren't going to currently do much more analysis, however for this initial linear regression problem we \n",
    "are going to solve it with two variables...\n",
    "\n",
    "- Independant: `petal_length`\n",
    "- Dependant: `petal_width`"
   ]
  },
  {
   "cell_type": "code",
   "execution_count": 3,
   "metadata": {},
   "outputs": [],
   "source": [
    "independant_variable = x_name = 'petal_length'\n",
    "dependant_variable = y_name = 'petal_width'"
   ]
  },
  {
   "cell_type": "markdown",
   "metadata": {},
   "source": [
    "If we were given a set of values for a single variable, but we wanted to estimate what the next variable\n",
    "would be, the best thing we could do is to determine what the mean is for that variable... \n",
    "\n",
    "$$\\bar{y}$$\n",
    "\n",
    "**So with only one variable and no other information, the best prediction for the next measurement is the \n",
    "mean of the sample itself.**   \n",
    "\n",
    "Lets start by creating a mean from our dataset, we will start by splitting our data into a train, test pair. "
   ]
  },
  {
   "cell_type": "code",
   "execution_count": 4,
   "metadata": {},
   "outputs": [],
   "source": [
    "split = 0.20\n",
    "split_index = int(len(iris_data) * split)\n",
    "\n",
    "test_data = iris_data[:split_index]\n",
    "train_data = iris_data[split_index:]"
   ]
  },
  {
   "cell_type": "markdown",
   "metadata": {},
   "source": [
    "Now lets take our single variable `petal_length` and calculate the mean, that we can use in future\n",
    "predictions.  "
   ]
  },
  {
   "cell_type": "code",
   "execution_count": 5,
   "metadata": {},
   "outputs": [
    {
     "data": {
      "text/plain": [
       "3.6799999999999997"
      ]
     },
     "execution_count": 5,
     "metadata": {},
     "output_type": "execute_result"
    }
   ],
   "source": [
    "def mean(data, variable):\n",
    "    return sum([d[variable] for d in data]) / len(data)\n",
    "\n",
    "independant_mean = mean(train_data, independant_variable)\n",
    "independant_mean"
   ]
  },
  {
   "cell_type": "markdown",
   "metadata": {},
   "source": [
    "Now that we have our mean, lets see graph it out with the y axis being the `petal_length` and the\n",
    "x axis being an index into the data is all."
   ]
  },
  {
   "cell_type": "code",
   "execution_count": 6,
   "metadata": {},
   "outputs": [
    {
     "data": {
      "image/png": "[encoded data removed]",
      "text/plain": [
       "<matplotlib.figure.Figure at 0x1136f0cc0>"
      ]
     },
     "metadata": {},
     "output_type": "display_data"
    }
   ],
   "source": [
    "X = list(range(len(train_data)))\n",
    "Y = [d[independant_variable] for d in train_data]\n",
    "\n",
    "plt.figure()\n",
    "plt.scatter(X, Y)\n",
    "plt.plot(X, [independant_mean for _ in X], color='red')\n",
    "plt.show()"
   ]
  },
  {
   "cell_type": "markdown",
   "metadata": {},
   "source": [
    "We can now calculate our residuals (errors) from the mean.  "
   ]
  },
  {
   "cell_type": "code",
   "execution_count": 7,
   "metadata": {},
   "outputs": [
    {
     "name": "stdout",
     "output_type": "stream",
     "text": [
      "[-0.17999999999999972,\n",
      " 0.41999999999999993,\n",
      " -2.38,\n",
      " 1.3200000000000003,\n",
      " 1.8200000000000003]\n"
     ]
    }
   ],
   "source": [
    "residuals = [d[independant_variable] - independant_mean for d in train_data]\n",
    "pprint(residuals[:5])"
   ]
  },
  {
   "cell_type": "markdown",
   "metadata": {},
   "source": [
    "Now lets add up the residuals. "
   ]
  },
  {
   "cell_type": "code",
   "execution_count": 8,
   "metadata": {},
   "outputs": [
    {
     "data": {
      "text/plain": [
       "3.375077994860476e-14"
      ]
     },
     "execution_count": 8,
     "metadata": {},
     "output_type": "execute_result"
    }
   ],
   "source": [
    "sum(residuals)"
   ]
  },
  {
   "cell_type": "markdown",
   "metadata": {},
   "source": [
    "The one thing to note, is that outside of the calculation error our sum is basically 0.  \n",
    "\n",
    "Residuals always add up to zero when using the mean (residual is the error from the prediction)\n",
    "\n",
    "What we want to determine is that sum of the square of the errors, so lets do that now. "
   ]
  },
  {
   "cell_type": "code",
   "execution_count": 9,
   "metadata": {},
   "outputs": [
    {
     "data": {
      "text/plain": [
       "376.1519999999997"
      ]
     },
     "execution_count": 9,
     "metadata": {},
     "output_type": "execute_result"
    }
   ],
   "source": [
    "def sum_of_residuals(mean, data, variable):\n",
    "    return sum([(d[variable] - mean) ** 2 for d in data])\n",
    "\n",
    "sse = sum_of_residuals(independant_mean, train_data, independant_variable)\n",
    "sse"
   ]
  },
  {
   "cell_type": "markdown",
   "metadata": {},
   "source": [
    "In linear regression, we are going to minimize the sum of squares of the residuals / error (SSE).  "
   ]
  },
  {
   "cell_type": "markdown",
   "metadata": {},
   "source": [
    "### Linear Regression\n",
    "\n",
    "Linear regrsion shares traits with `anova` and `correlation`.  \n",
    "**Note: Regression is very sensitive to rounding**\n",
    "\n",
    "Functionally, we have a value of $y$ that is a function of $x$ so \n",
    "\n",
    "$$y = f(x)$$\n",
    "\n",
    "In algebra, we can define a line as:\n",
    "\n",
    "$$y = mx + b$$\n",
    "\n",
    "and in the case of linear regression we are going to have an equation here.  \n",
    "\n",
    "$$y = \\beta_o + \\beta_1x + \\epsilon$$\n",
    "\n",
    "- $\\beta_0$ is the y-intercept population parameter\n",
    "- $\\beta_1$ is the slope population parameter\n",
    "- $\\epsilon$ is the error term, unexplained variation in y.  \n",
    "\n",
    "Simple expression\n",
    "\n",
    "$$ E(y) = \\beta_0 + \\beta_1x$$\n",
    "\n",
    "$E(y)$ is the mean or expected value of y for a given x... \n",
    "\n",
    "#### General Regression Lines\n",
    "\n",
    "There are 3 types of regression lines.  \n",
    "\n",
    "- $\\beta_1$ is zero, so slope is 0\n",
    "- $\\beta_1$ is positive (slope increasing)\n",
    "- $\\beta_1$ is negative (slope decreasing)\n",
    "\n",
    "If we actually knew the population parameters $\\beta_0$ and $\\beta_1$ we could use the equation. \n",
    "\n",
    "#### Least Squares Method\n",
    "\n",
    "The version of linear regression we are going to implement first is the least squares, defined below. \n",
    "\n",
    "$$min \\sum{(y_i - \\hat{y}_i)^2}$$\n",
    "\n",
    "Lets start with a scatter plot of our data and our two variables. "
   ]
  },
  {
   "cell_type": "code",
   "execution_count": 10,
   "metadata": {},
   "outputs": [
    {
     "data": {
      "image/png": "[encoded data removed]",
      "text/plain": [
       "<matplotlib.figure.Figure at 0x1136f0438>"
      ]
     },
     "metadata": {},
     "output_type": "display_data"
    }
   ],
   "source": [
    "X = [d[x_name] for d in train_data]\n",
    "Y = [d[y_name] for d in train_data]\n",
    "\n",
    "fig = plt.figure()\n",
    "fig.set_figwidth(10)\n",
    "fig.set_figheight(5)\n",
    "\n",
    "plt.xlabel(x_name)\n",
    "plt.ylabel(y_name)\n",
    "\n",
    "plt.scatter(X, Y)\n",
    "plt.show()"
   ]
  },
  {
   "cell_type": "markdown",
   "metadata": {},
   "source": [
    "One thing that we can do is to calculate the coorelation coefficient ($r$) of the two variables. \n",
    "\n",
    "We can calculate the $r$ value using the below steps. \n",
    "\n",
    "There are a couple of steps to do this.  \n",
    "\n",
    "1. Get all the x mean and y mean. \n",
    "$$\\bar{x} , \\bar{y}$$\n",
    "\n",
    "2. Calculate the standard deviation of x and y. \n",
    "$$s_x = \\sqrt{\\frac{\\sum{(x - \\bar{x})^2}}{n-1}}$$\n",
    "\n",
    "3. Get the sum of all pairs $n$ of $(x, y)$.\n",
    "$$\\sum_{x} \\sum_{y} (x-\\bar{x})(y-\\bar{y})$$\n",
    "\n",
    "4. Divide the results of step 3 with the standard deviations of x and y ($s_x, s_y$)\n",
    "$$\\frac{\\sum_{x} \\sum_{y} (x-\\bar{x})(y-\\bar{y})}{s_x s_y}$$\n",
    "\n",
    "5. Divide the results by $n-1$\n",
    "$$(\\frac{\\sum_{x} \\sum_{y} (x-\\bar{x})(y-\\bar{y})}{s_x s_y}) * \\frac{1}{n-1}$$"
   ]
  },
  {
   "cell_type": "code",
   "execution_count": 11,
   "metadata": {},
   "outputs": [
    {
     "data": {
      "text/plain": [
       "0.9649387656868356"
      ]
     },
     "execution_count": 11,
     "metadata": {},
     "output_type": "execute_result"
    }
   ],
   "source": [
    "import math\n",
    "\n",
    "def std_deviation(data, variable, mean):\n",
    "    total = sum([(d[variable] - mean) ** 2 for d in data])\n",
    "    return math.sqrt(total / (len(data)-1))\n",
    "    \n",
    "def error_sum(x_y_pairs, x_mean, y_mean):\n",
    "    errors = [(d[0] - x_mean) * (d[1] - y_mean) for d in x_y_pairs]\n",
    "    return sum(errors)\n",
    "\n",
    "def r_score(x_y_pair):\n",
    "    x_mean = mean(x_y_pair, 0)\n",
    "    y_mean = mean(x_y_pair, 1)\n",
    "\n",
    "    x_std = std_deviation(x_y_pair, 0, x_mean)\n",
    "    y_std = std_deviation(x_y_pair, 1, y_mean)\n",
    "    \n",
    "    error = error_sum(x_y_pair, x_mean, y_mean)\n",
    "    error_div_std = error / (x_std * y_std)\n",
    "\n",
    "    r_score = error_div_std / (len(x_y_pair) - 1)\n",
    "    \n",
    "    return r_score\n",
    "\n",
    "r_score([(d[x_name], d[y_name]) for d in train_data])"
   ]
  },
  {
   "cell_type": "markdown",
   "metadata": {},
   "source": [
    "Since our R value is pretty close to 1, that would lead us to believe that there is a strong coorelation\n",
    "between the `petal length` and `petal width`. \n",
    "\n",
    "Now lets get the centroid, this is the mean of y ($\\bar{y}$) and x ($\\bar{x}$)\n",
    "\n",
    "**Note: The line for regression must go through the centroid**"
   ]
  },
  {
   "cell_type": "code",
   "execution_count": 12,
   "metadata": {},
   "outputs": [
    {
     "data": {
      "text/plain": [
       "(3.6799999999999997, 1.1716666666666664)"
      ]
     },
     "execution_count": 12,
     "metadata": {},
     "output_type": "execute_result"
    }
   ],
   "source": [
    "x_mean = mean(train_data, x_name)\n",
    "y_mean = mean(train_data, y_name)\n",
    "\n",
    "centroid = (x_mean, y_mean)\n",
    "centroid"
   ]
  },
  {
   "cell_type": "markdown",
   "metadata": {},
   "source": [
    "Now that we have the means we can use that to calculate what the $b_0$ and $b_1$ values are. \n",
    "\n",
    "$b_1$ (slope) = $\\frac{\\sum{(x_i - \\bar{x})(y_i - \\bar{y})}}{\\sum{(x_i - \\bar{x})^2}}$\n",
    "\n",
    "$b_0$ (intercept) = $\\bar{y}-b_1\\bar{x}$\n",
    "\n",
    "- Petal Width (X) Deviation = ($x_i - \\bar{x}$)\n",
    "- Petal Length (Y) Deviation = ($y_i - \\bar{y}$)\n",
    "- Deviation Products = $(x_i - \\bar{x})(y_i - \\bar{y})$\n",
    "- Petal Width (X) Deviation Squared = $(x_i - \\bar{x})^2$"
   ]
  },
  {
   "cell_type": "code",
   "execution_count": 13,
   "metadata": {},
   "outputs": [
    {
     "name": "stdout",
     "output_type": "stream",
     "text": [
      "b0: -0.36021874135987675, b1: 0.41627320870286505\n"
     ]
    }
   ],
   "source": [
    "x_deviation = [d[x_name] - x_mean for d in train_data]\n",
    "y_deviation = [d[y_name] - y_mean for d in train_data]\n",
    "sum_deviation_product = sum([x*y for x, y in zip(x_deviation, y_deviation)])\n",
    "sum_squared_x_deviation = sum([x ** 2 for x in x_deviation])\n",
    "\n",
    "b1 = sum_deviation_product / sum_squared_x_deviation\n",
    "b0 = y_mean - (b1 * x_mean)\n",
    "\n",
    "print(f'b0: {b0}, b1: {b1}')"
   ]
  },
  {
   "cell_type": "markdown",
   "metadata": {},
   "source": [
    "So this means that our regression line would be.\n",
    "\n",
    "$$\\hat{y}_i = -0.3602187 + 0.416273x_i$$\n",
    "\n",
    "and if we graph this out we get"
   ]
  },
  {
   "cell_type": "code",
   "execution_count": 14,
   "metadata": {},
   "outputs": [
    {
     "data": {
      "image/png": "[encoded data removed]",
      "text/plain": [
       "<matplotlib.figure.Figure at 0x113836f28>"
      ]
     },
     "metadata": {},
     "output_type": "display_data"
    },
    {
     "data": {
      "image/png": "[encoded data removed]",
      "text/plain": [
       "<matplotlib.figure.Figure at 0x113a5bba8>"
      ]
     },
     "metadata": {},
     "output_type": "display_data"
    }
   ],
   "source": [
    "X = [d[x_name] for d in train_data]\n",
    "Y = [d[y_name] for d in train_data]\n",
    "\n",
    "fig = plt.figure()\n",
    "fig.set_figwidth(10)\n",
    "fig.set_figheight(5)\n",
    "\n",
    "plt.xlabel(x_name)\n",
    "plt.ylabel(y_name)\n",
    "plt.scatter(X, Y)\n",
    "plt.plot(X, [(b0 + b1*x) for x in X], color='red')\n",
    "plt.show()\n",
    "\n",
    "fig = plt.figure()\n",
    "fig.set_figwidth(10)\n",
    "fig.set_figheight(5)\n",
    "plt.title('Regression with Centroid')\n",
    "plt.scatter(X, Y)\n",
    "plt.xlabel(x_name)\n",
    "plt.ylabel(y_name)\n",
    "plt.plot(X, [(b0 + b1*x) for x in X], color='red')\n",
    "plt.scatter([centroid[0]], [centroid[1]], s=[15**2])\n",
    "plt.show()"
   ]
  },
  {
   "cell_type": "markdown",
   "metadata": {},
   "source": [
    "How do we interpret the regression line?  (Basically how the dependant variable changes with changes to the\n",
    "independant variable). \n",
    "\n",
    "Going back to our regression line:\n",
    "$$\\hat{y}_i = -0.3602187 + 0.416273x_i$$\n",
    "\n",
    "We know that the `slope` is $0.416273$ and the `intercept` is $-0.3602187$, this leads us to believe 2 items. \n",
    "\n",
    "1. for every increase in the petal_length, the width of the petal should increase by 0.416273.  \n",
    "2. When the petal_length is `0` the width of the petal is `-0.3602187`.\n",
    "\n",
    "Since we know that a petal can never have a negative width, we need to make sure and call out that\n",
    "the **intercept may or may not make sense in real life**.  "
   ]
  },
  {
   "cell_type": "markdown",
   "metadata": {},
   "source": [
    "### Model Linear Regression"
   ]
  },
  {
   "cell_type": "markdown",
   "metadata": {},
   "source": [
    "Now we can take our linear regression information from above and create a model to predict future values, unlike\n",
    "the knn, we can actually do a fit in our linear regression model, so we will need to split the model up\n",
    "into a trian/fit portion and a predict portion.  \n",
    "\n",
    "We will still limit our code implementation to just 2 variables, the independant and the dependant. "
   ]
  },
  {
   "cell_type": "code",
   "execution_count": 15,
   "metadata": {},
   "outputs": [],
   "source": [
    "class LinearRegression:\n",
    "    def __init__(self, x_name, y_name):\n",
    "        self._x_name = x_name\n",
    "        self._y_name = y_name\n",
    "        self._slope = None\n",
    "        self._intercept = None\n",
    "\n",
    "    def fit(self, data):\n",
    "        x_mean = mean(data, self._x_name)\n",
    "        y_mean = mean(data, self._y_name)\n",
    "\n",
    "        x_deviation = [d[self._x_name] - x_mean for d in data]\n",
    "        y_deviation = [d[self._y_name] - y_mean for d in data]\n",
    "        sum_deviation_product = sum([x*y for x, y in zip(x_deviation, y_deviation)])\n",
    "        sum_squared_x_deviation = sum([x ** 2 for x in x_deviation])\n",
    "\n",
    "        self._slope = b1 = sum_deviation_product / sum_squared_x_deviation\n",
    "        self._intercept = y_mean - (b1 * x_mean)\n",
    "    \n",
    "    def predict(self, x):\n",
    "        return self._intercept + (self._slope * x[self._x_name])\n",
    "    \n",
    "    def __repr__(self):\n",
    "        return f'LinearRegression(x_name={self._x_name},y_name={self._y_name},_slope={self._slope},_intercept={self._intercept})'"
   ]
  },
  {
   "cell_type": "code",
   "execution_count": 16,
   "metadata": {},
   "outputs": [
    {
     "data": {
      "text/plain": [
       "LinearRegression(x_name=petal_length,y_name=petal_width,_slope=0.41627320870286505,_intercept=-0.36021874135987675)"
      ]
     },
     "execution_count": 16,
     "metadata": {},
     "output_type": "execute_result"
    }
   ],
   "source": [
    "model = LinearRegression(x_name='petal_length', y_name='petal_width')\n",
    "model.fit(train_data)\n",
    "model"
   ]
  },
  {
   "cell_type": "markdown",
   "metadata": {},
   "source": [
    "Now lets predict on our test data and check for the error that we have at the end. "
   ]
  },
  {
   "cell_type": "code",
   "execution_count": 17,
   "metadata": {},
   "outputs": [
    {
     "name": "stdout",
     "output_type": "stream",
     "text": [
      "[(1.596265339543589, 1.4),\n",
      " (1.7627746230247348, 1.5),\n",
      " (2.1790478317276, 2.5),\n",
      " (1.9709112273761673, 1.4),\n",
      " (1.4713833769327296, 1.4)]\n"
     ]
    }
   ],
   "source": [
    "predictions = [model.predict(x) for x in test_data]\n",
    "predictions_with_actual = list(zip(predictions, [x['petal_width'] for x in test_data]))\n",
    "pprint(predictions_with_actual[:5])"
   ]
  },
  {
   "cell_type": "markdown",
   "metadata": {},
   "source": [
    "Lets graph the prediction output as apposed to the actual value, so that we can see how off we are on our predictions. "
   ]
  },
  {
   "cell_type": "code",
   "execution_count": 18,
   "metadata": {},
   "outputs": [
    {
     "data": {
      "image/png": "[encoded data removed]",
      "text/plain": [
       "<matplotlib.figure.Figure at 0x1137c36a0>"
      ]
     },
     "metadata": {},
     "output_type": "display_data"
    }
   ],
   "source": [
    "X = [d[0] for d in predictions_with_actual]\n",
    "Y = [d[1] for d in predictions_with_actual]\n",
    "\n",
    "max_value = max(X + Y) * 1.1\n",
    "\n",
    "fig = plt.figure()\n",
    "fig.set_figwidth(10)\n",
    "fig.set_figheight(5)\n",
    "\n",
    "plt.xlabel('predicted')\n",
    "plt.ylabel('actual')\n",
    "\n",
    "plt.xlim(0, max_value)\n",
    "plt.ylim(0, max_value)\n",
    "\n",
    "plt.scatter(X, Y)\n",
    "plt.plot([0, max_value], [0, max_value], color='red')\n",
    "plt.show()"
   ]
  },
  {
   "cell_type": "markdown",
   "metadata": {},
   "source": [
    "In the above graph, we would have preferred to have had all the data land on the line, that would suggest\n",
    "that we had correctly predicted all values.  "
   ]
  },
  {
   "cell_type": "markdown",
   "metadata": {},
   "source": [
    "#### Measuring Correctness\n",
    "\n",
    "We now have some data and some predicted results, what we want to do is to determine how correct the model\n",
    "that we trained is.  \n",
    "\n",
    "There are a few types of correctness that we can use, $r^2$, RMSE, MAE, etc. \n",
    "\n",
    "##### R2 ($r^2$)\n",
    "\n",
    "The first method that we will look at is the $r^2$ method.  This is called the `coefficient of determination`. \n",
    "as the name implies this is the $r$ value squared.  We calculated the $r$ value above, so lets use it on the\n",
    "predictions vs actuals. "
   ]
  },
  {
   "cell_type": "code",
   "execution_count": 19,
   "metadata": {},
   "outputs": [
    {
     "data": {
      "text/plain": [
       "0.9082211838083142"
      ]
     },
     "execution_count": 19,
     "metadata": {},
     "output_type": "execute_result"
    }
   ],
   "source": [
    "r = r_score(predictions_with_actual)\n",
    "r ** 2"
   ]
  },
  {
   "cell_type": "markdown",
   "metadata": {},
   "source": [
    "So looking at our $r^2$ there are a few things that we want to make sure we understand before we assume that\n",
    "because we have a `0.9` we are in a good place.  \n",
    "\n",
    "R-squared will always increase as you add more inputs (related or not) to the model, especially if you have \n",
    "more inputs then datapoints.   This leads to a situation where we could be optimizing for a high $r^2$\n",
    "which would likely lead to an overfit model.  \n",
    "\n",
    "As a Data Scientist stated - \"$r^2$ is typically used to measure the fit on the data that was used in the regression, aka the training data\" \n",
    "\n",
    "##### MAE, MSE and RMSE\n",
    "\n",
    "The three mean error checks are:\n",
    "\n",
    "1. Mean Absolute Error\n",
    "2. Mean Squared Error\n",
    "3. Root Mean Squared Error\n",
    "\n",
    "The algorithm for **MSE** is pretty straight forward. ($\\hat{y}$ is the predicted value, $y$ is the actual)\n",
    "$$ \\frac{1}{n}\\sum_{i=1}^{n} (y_i - \\hat{y}_i)^2 $$\n",
    "\n",
    "For the **RMSE** just take the square root of the MSE results\n",
    "$$ \\sqrt{\\frac{1}{n}\\sum_{i=1}^{n} (y_i - \\hat{y}_i)^2} $$\n",
    "\n",
    "Finally we have **MAE** which is similar to MSE\n",
    "$$ \\frac{1}{n}\\sum_{i=1}^{n} |y_i - \\hat{y}_i| $$\n",
    "\n",
    "Lets code these up and compare the results. "
   ]
  },
  {
   "cell_type": "code",
   "execution_count": 20,
   "metadata": {},
   "outputs": [
    {
     "name": "stdout",
     "output_type": "stream",
     "text": [
      "MAE: 0.17696023593299154\n",
      "MSE: 0.05085602082239144\n",
      "RMSE: 0.22551279525204648\n"
     ]
    }
   ],
   "source": [
    "def mean_operation(prediction_actuals, operation=abs, root=False):\n",
    "    n = len(prediction_actuals)\n",
    "    errors = [operation(y-yh) for yh, y in prediction_actuals]\n",
    "    result = sum(errors) / n\n",
    "    return result if not root else math.sqrt(result)\n",
    "\n",
    "mae = mean_operation(predictions_with_actual)\n",
    "mse = mean_operation(predictions_with_actual, operation=lambda x: x ** 2)\n",
    "rmse = mean_operation(predictions_with_actual, operation=lambda x: x ** 2, root=True)\n",
    "print(f'MAE: {mae}')\n",
    "print(f'MSE: {mse}')\n",
    "print(f'RMSE: {rmse}')"
   ]
  },
  {
   "cell_type": "markdown",
   "metadata": {},
   "source": [
    "## TODO: Analysis and comparision of correctness results. "
   ]
  },
  {
   "cell_type": "markdown",
   "metadata": {},
   "source": [
    "### References\n",
    "\n",
    "* [Dummies, how to calculate a correlation](http://www.dummies.com/education/math/statistics/how-to-calculate-a-correlation/) \n",
    "* [Regression Analysis, how do I interpret r2 and access the goodness of a fit](http://blog.minitab.com/blog/adventures-in-statistics-2/regression-analysis-how-do-i-interpret-r-squared-and-assess-the-goodness-of-fit)\n",
    "* [Wikipedia - Coefficient of Determination](https://en.wikipedia.org/wiki/Coefficient_of_determination) \n",
    "* [Assessing the Fit of Regression Model](https://www.theanalysisfactor.com/assessing-the-fit-of-regression-models/)  \n"
   ]
  },
  {
   "cell_type": "code",
   "execution_count": null,
   "metadata": {},
   "outputs": [],
   "source": []
  }
 ],
 "metadata": {
  "kernelspec": {
   "display_name": "Python 3",
   "language": "python",
   "name": "python3"
  },
  "language_info": {
   "codemirror_mode": {
    "name": "ipython",
    "version": 3
   },
   "file_extension": ".py",
   "mimetype": "text/x-python",
   "name": "python",
   "nbconvert_exporter": "python",
   "pygments_lexer": "ipython3",
   "version": "3.6.3"
  }
 },
 "nbformat": 4,
 "nbformat_minor": 2
}
