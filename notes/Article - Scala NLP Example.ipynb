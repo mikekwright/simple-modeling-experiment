{
 "cells": [
  {
   "cell_type": "markdown",
   "metadata": {},
   "source": [
    "Scala NLP Example\n",
    "==========================\n",
    "\n",
    "I am currently working on another article that is focused on NLP and its uses when trying\n",
    "to analyze the type of sentence or paragraph that is being used (does it talk about finances,\n",
    "or development or health care, etc).  \n",
    "\n",
    "This notebook will be created using a different notebook engine (like [Spark Notebook](https://github.com/spark-notebook/spark-notebook/blob/master/docs/quick_start.md) or something similar).  \n",
    "\n",
    "Some of the libraries that I am looking at to use are\n",
    "\n",
    "- [Smile](https://haifengl.github.io/smile/)\n",
    "- [Breeze](https://github.com/scalanlp/breeze)\n",
    "- [DeepLearning4J](https://deeplearning4j.org/)\n",
    "- [DynaML](https://transcendent-ai-labs.github.io/DynaML/)\n"
   ]
  }
 ],
 "metadata": {
  "kernelspec": {
   "display_name": "Python 3",
   "language": "python",
   "name": "python3"
  },
  "language_info": {
   "codemirror_mode": {
    "name": "ipython",
    "version": 3
   },
   "file_extension": ".py",
   "mimetype": "text/x-python",
   "name": "python",
   "nbconvert_exporter": "python",
   "pygments_lexer": "ipython3",
   "version": "3.6.5"
  }
 },
 "nbformat": 4,
 "nbformat_minor": 2
}
