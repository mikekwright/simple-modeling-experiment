{
 "cells": [
  {
   "cell_type": "markdown",
   "metadata": {},
   "source": [
    "## Dataset Selection / Analysis\n",
    "\n",
    "For our model, we are going to be creating a model that can be feed an image (size 28x28) and determine the character that is found on that image.  "
   ]
  },
  {
   "cell_type": "markdown",
   "metadata": {},
   "source": [
    "### Sources\n",
    "\n",
    "There were a few different datasets that were available:\n",
    "\n",
    "* [MNIST Handwritten Digits](http://yann.lecun.com/exdb/mnist/)\n",
    "* [ICDAR 2003 Competition Set](http://www.iapr-tc11.org/mediawiki/index.php/ICDAR_2003_Robust_Reading_Competitions#Robust_Reading_and_Text_Locating)\n",
    "\n",
    "We have decided at this time to use the `ICDAR` dataset. "
   ]
  },
  {
   "cell_type": "code",
   "execution_count": 1,
   "metadata": {},
   "outputs": [],
   "source": [
    "# http://www.iapr-tc11.org/dataset/ICDAR2003_RobustReading/TrialTrain/char.zip"
   ]
  },
  {
   "cell_type": "markdown",
   "metadata": {},
   "source": [
    "### Data Munging\n",
    "\n",
    "The first thing we are going to do is to update the catalog from xml to json. "
   ]
  },
  {
   "cell_type": "code",
   "execution_count": 3,
   "metadata": {},
   "outputs": [],
   "source": [
    "import os\n",
    "import xml.etree.ElementTree\n",
    "import json\n",
    "\n",
    "data_path = '../raw_data'\n",
    "char_xml = xml.etree.ElementTree.parse(os.path.join(data_path, 'char.xml')).getroot()\n",
    "\n",
    "output_object = {}\n",
    "for entry in char_xml:\n",
    "    tag = entry.get('tag')\n",
    "    file_name = entry.get('file')\n",
    "    tag_dict = output_object.get(tag, [])\n",
    "    tag_dict.append(file_name)\n",
    "    output_object[tag] = tag_dict\n",
    "\n",
    "with open(os.path.join(data_path, 'char.json'), 'w', encoding='utf-8') as output_file:\n",
    "    json.dump(output_object, output_file)"
   ]
  },
  {
   "cell_type": "markdown",
   "metadata": {},
   "source": [
    "So now we have a new json file that contains the label information and the location of the corresponding images associated with those labels.  "
   ]
  },
  {
   "cell_type": "code",
   "execution_count": 2,
   "metadata": {},
   "outputs": [
    {
     "name": "stdout",
     "output_type": "stream",
     "text": [
      "{'!': (10, 'char/18/1721.jpg'),\n",
      " '\"': (1, 'char/18/1746.jpg'),\n",
      " '&': (7, 'char/20/1920.jpg'),\n",
      " \"'\": (7, 'char/16/1596.jpg'),\n",
      " '(': (7, 'char/18/1742.jpg'),\n",
      " ')': (7, 'char/18/1747.jpg'),\n",
      " '-': (7, 'char/3/294.jpg'),\n",
      " '.': (17, 'char/9/850.jpg'),\n",
      " '0': (26, 'char/1/36.jpg'),\n",
      " '1': (28, 'char/4/349.jpg'),\n",
      " '2': (35, 'char/1/34.jpg'),\n",
      " '3': (15, 'char/1/26.jpg'),\n",
      " '4': (20, 'char/4/338.jpg'),\n",
      " '5': (15, 'char/1/35.jpg'),\n",
      " '6': (5, 'char/1/27.jpg'),\n",
      " '7': (7, 'char/2/127.jpg'),\n",
      " '8': (14, 'char/1/28.jpg'),\n",
      " '9': (6, 'char/1/29.jpg'),\n",
      " ':': (2, 'char/36/3590.jpg'),\n",
      " '?': (1, 'char/30/2909.jpg'),\n",
      " 'A': (221, 'char/1/57.jpg'),\n",
      " 'B': (52, 'char/1/86.jpg'),\n",
      " 'C': (146, 'char/1/66.jpg'),\n",
      " 'D': (108, 'char/2/124.jpg'),\n",
      " 'E': (326, 'char/1/53.jpg'),\n",
      " 'F': (59, 'char/1/100.jpg'),\n",
      " 'G': (76, 'char/1/51.jpg'),\n",
      " 'H': (81, 'char/2/132.jpg'),\n",
      " 'I': (183, 'char/1/74.jpg'),\n",
      " 'J': (15, 'char/3/261.jpg'),\n",
      " 'K': (28, 'char/1/55.jpg'),\n",
      " 'L': (164, 'char/1/78.jpg'),\n",
      " 'M': (80, 'char/1/64.jpg'),\n",
      " 'N': (168, 'char/1/44.jpg'),\n",
      " 'O': (206, 'char/1/61.jpg'),\n",
      " 'P': (88, 'char/1/90.jpg'),\n",
      " 'Q': (1, 'char/42/4107.jpg'),\n",
      " 'R': (205, 'char/1/52.jpg'),\n",
      " 'S': (246, 'char/1/58.jpg'),\n",
      " 'T': (201, 'char/1/59.jpg'),\n",
      " 'U': (66, 'char/1/85.jpg'),\n",
      " 'V': (28, 'char/2/105.jpg'),\n",
      " 'W': (40, 'char/1/73.jpg'),\n",
      " 'X': (16, 'char/9/859.jpg'),\n",
      " 'Y': (45, 'char/1/65.jpg'),\n",
      " 'Z': (4, 'char/5/471.jpg'),\n",
      " 'a': (240, 'char/1/5.jpg'),\n",
      " 'b': (40, 'char/1/22.jpg'),\n",
      " 'c': (103, 'char/1/31.jpg'),\n",
      " 'd': (101, 'char/1/6.jpg'),\n",
      " 'e': (390, 'char/1/2.jpg'),\n",
      " 'f': (57, 'char/1/4.jpg'),\n",
      " 'g': (65, 'char/2/176.jpg'),\n",
      " 'h': (90, 'char/1/7.jpg'),\n",
      " 'i': (249, 'char/1/10.jpg'),\n",
      " 'j': (7, 'char/5/427.jpg'),\n",
      " 'k': (27, 'char/4/317.jpg'),\n",
      " 'l': (137, 'char/1/3.jpg'),\n",
      " 'm': (95, 'char/1/30.jpg'),\n",
      " 'n': (257, 'char/1/38.jpg'),\n",
      " 'o': (276, 'char/1/37.jpg'),\n",
      " 'p': (58, 'char/2/199.jpg'),\n",
      " 'q': (2, 'char/21/2080.jpg'),\n",
      " 'r': (224, 'char/1/16.jpg'),\n",
      " 's': (200, 'char/1/1.jpg'),\n",
      " 't': (235, 'char/1/46.jpg'),\n",
      " 'u': (90, 'char/3/207.jpg'),\n",
      " 'v': (34, 'char/1/11.jpg'),\n",
      " 'w': (44, 'char/1/47.jpg'),\n",
      " 'x': (21, 'char/12/1137.jpg'),\n",
      " 'y': (47, 'char/2/170.jpg'),\n",
      " '£': (1, 'char/35/3430.jpg'),\n",
      " 'É': (2, 'char/52/5135.jpg'),\n",
      " 'Ñ': (2, 'char/52/5121.jpg'),\n",
      " 'é': (1, 'char/36/3501.jpg')}\n"
     ]
    }
   ],
   "source": [
    "import os\n",
    "import json\n",
    "from pprint import pprint\n",
    "\n",
    "data_path = '../raw_data'\n",
    "\n",
    "with open(os.path.join(data_path, 'char.json'), 'r', encoding='utf-8') as f:\n",
    "    catalog = json.load(f)\n",
    "\n",
    "# Lets see what the data looks like in the catalog. \n",
    "pprint({k: (len(v), v[0]) for k, v in catalog.items()})"
   ]
  },
  {
   "cell_type": "markdown",
   "metadata": {},
   "source": [
    "At this point we have our data to work over, we need to understand how we can extract the pixel information from the jpg images (which are using a compressed format).  "
   ]
  },
  {
   "cell_type": "code",
   "execution_count": 3,
   "metadata": {},
   "outputs": [
    {
     "name": "stdout",
     "output_type": "stream",
     "text": [
      "Loading: ../raw_data/char/1/57.jpg\n",
      "Single Pixel: (189, 182, 164)\n"
     ]
    },
    {
     "data": {
      "image/png": "[encoded data removed]",
      "text/plain": [
       "<PIL.Image.Image image mode=RGB size=100x100 at 0x104220DA0>"
      ]
     },
     "execution_count": 3,
     "metadata": {},
     "output_type": "execute_result"
    }
   ],
   "source": [
    "import os\n",
    "\n",
    "from PIL import Image\n",
    "\n",
    "data_dir = '../raw_data'\n",
    "\n",
    "image_to_load = catalog['A'][0]\n",
    "print('Loading:', os.path.join(data_dir, image_to_load))\n",
    "\n",
    "image_data = Image.open(os.path.join(data_dir, image_to_load))\n",
    "print('Single Pixel:', image_data.getdata()[0])\n",
    "image_data.resize((100, 100))"
   ]
  },
  {
   "cell_type": "markdown",
   "metadata": {},
   "source": [
    "So the representation of the pixel is currently in RGB form... for our system we want to treat each pixel as a single numeric value, so lets convert the image representation to black and white to see what the differences are. "
   ]
  },
  {
   "cell_type": "code",
   "execution_count": 4,
   "metadata": {},
   "outputs": [
    {
     "name": "stdout",
     "output_type": "stream",
     "text": [
      "Single Pixel: 182\n"
     ]
    },
    {
     "data": {
      "image/png": "[encoded data removed]",
      "text/plain": [
       "<PIL.Image.Image image mode=L size=100x100 at 0x104220978>"
      ]
     },
     "execution_count": 4,
     "metadata": {},
     "output_type": "execute_result"
    }
   ],
   "source": [
    "black_white_image = image_data.convert(mode='L')\n",
    "print('Single Pixel:', black_white_image.getdata()[0])\n",
    "black_white_image.resize((100, 100))"
   ]
  },
  {
   "cell_type": "markdown",
   "metadata": {},
   "source": [
    "Ok, so now we have the image with the pixel representation and it is limited to a single numeric value.  This means that we can create a reader that goes through each image... it we quickly look at each file we should be able to verify the sizes that are found..."
   ]
  },
  {
   "cell_type": "code",
   "execution_count": 5,
   "metadata": {},
   "outputs": [
    {
     "name": "stdout",
     "output_type": "stream",
     "text": [
      "2983\n"
     ]
    }
   ],
   "source": [
    "from collections import Counter\n",
    "\n",
    "data_dir = '../raw_data'\n",
    "\n",
    "all_images = Counter([Image.open(os.path.join(data_dir, img)).size \n",
    "                for l in catalog.values()\n",
    "                for img in l])\n",
    "\n",
    "pprint(len(all_images))"
   ]
  },
  {
   "cell_type": "markdown",
   "metadata": {},
   "source": [
    "Well that is something that we need to work on... looks like there are a lot of images of different sizes... for our system we want all images to fit into our 28x28 model so we can do a resize as well as a color correction."
   ]
  },
  {
   "cell_type": "code",
   "execution_count": 22,
   "metadata": {},
   "outputs": [
    {
     "data": {
      "text/plain": [
       "Counter({((28, 28), 784): 6185})"
      ]
     },
     "execution_count": 22,
     "metadata": {},
     "output_type": "execute_result"
    }
   ],
   "source": [
    "from collections import Counter\n",
    "\n",
    "data_dir = '../raw_data'\n",
    "\n",
    "formatted_images = [(l, Image.open(os.path.join(data_dir, img)).convert(mode='L').resize((28, 28)))\n",
    "                      for l, images in catalog.items()\n",
    "                      for img in images]\n",
    "\n",
    "Counter([(f.size, len(f.getdata())) for _, f in formatted_images])"
   ]
  },
  {
   "cell_type": "markdown",
   "metadata": {},
   "source": [
    "Alright, we have a clean common dataset to work with... now we haven't really done anything in the way of real feature engineering and we won't until we have a model to run against it... so with that in mind, lets see what happens when we use a simple sklearn model on our data. "
   ]
  },
  {
   "cell_type": "code",
   "execution_count": 23,
   "metadata": {},
   "outputs": [
    {
     "name": "stdout",
     "output_type": "stream",
     "text": [
      "4948 1237\n"
     ]
    }
   ],
   "source": [
    "import numpy as np\n",
    "\n",
    "np.random.shuffle(formatted_images)\n",
    "\n",
    "train_size = int(len(formatted_images) * 0.8)\n",
    "train_data = formatted_images[:train_size]\n",
    "validate_data = formatted_images[train_size:]\n",
    "print(len(train_data), len(validate_data))"
   ]
  },
  {
   "cell_type": "code",
   "execution_count": 27,
   "metadata": {},
   "outputs": [
    {
     "data": {
      "text/plain": [
       "LogisticRegression(C=1.0, class_weight=None, dual=False, fit_intercept=True,\n",
       "          intercept_scaling=1, max_iter=100, multi_class='ovr', n_jobs=1,\n",
       "          penalty='l2', random_state=None, solver='liblinear', tol=0.0001,\n",
       "          verbose=0, warm_start=False)"
      ]
     },
     "execution_count": 27,
     "metadata": {},
     "output_type": "execute_result"
    }
   ],
   "source": [
    "from sklearn.linear_model import LogisticRegression\n",
    "\n",
    "model = LogisticRegression()\n",
    "\n",
    "y = [l.isalpha() for l, _ in train_data]\n",
    "X = [list(d.getdata()) for _, d in train_data]\n",
    "\n",
    "model.fit(X, y)"
   ]
  },
  {
   "cell_type": "code",
   "execution_count": 29,
   "metadata": {},
   "outputs": [
    {
     "data": {
      "text/plain": [
       "0.9586497890295359"
      ]
     },
     "execution_count": 29,
     "metadata": {},
     "output_type": "execute_result"
    }
   ],
   "source": [
    "from sklearn.metrics import f1_score\n",
    "\n",
    "X = [list(d.getdata()) for _, d in validate_data]\n",
    "y_true = [l.isalpha() for l, _ in validate_data]\n",
    "\n",
    "y_pred = model.predict(X)\n",
    "\n",
    "f1_score(y_true, y_pred)"
   ]
  },
  {
   "cell_type": "markdown",
   "metadata": {},
   "source": [
    "So, a simple binary classifier to determine if the image was a character or not seems to have a reasonable f1 score... So now lets try a one hot encoding of the labeled data"
   ]
  },
  {
   "cell_type": "code",
   "execution_count": 30,
   "metadata": {},
   "outputs": [
    {
     "data": {
      "text/plain": [
       "LogisticRegression(C=1.0, class_weight=None, dual=False, fit_intercept=True,\n",
       "          intercept_scaling=1, max_iter=100, multi_class='ovr', n_jobs=1,\n",
       "          penalty='l2', random_state=None, solver='liblinear', tol=0.0001,\n",
       "          verbose=0, warm_start=False)"
      ]
     },
     "execution_count": 30,
     "metadata": {},
     "output_type": "execute_result"
    }
   ],
   "source": [
    "y = [l for l, _ in train_data]\n",
    "X = [list(d.getdata()) for _, d in train_data]\n",
    "\n",
    "multi_model = LogisticRegression()\n",
    "\n",
    "multi_model.fit(X,y)"
   ]
  },
  {
   "cell_type": "code",
   "execution_count": 39,
   "metadata": {},
   "outputs": [
    {
     "data": {
      "text/plain": [
       "0.07518189167340339"
      ]
     },
     "execution_count": 39,
     "metadata": {},
     "output_type": "execute_result"
    }
   ],
   "source": [
    "from sklearn.metrics import accuracy_score\n",
    "\n",
    "X = [list(d.getdata()) for _, d in validate_data]\n",
    "y_true = [l for l, _ in validate_data]\n",
    "\n",
    "y_pred = multi_model.predict(X)\n",
    "\n",
    "accuracy_score(y_true, y_pred)"
   ]
  },
  {
   "cell_type": "markdown",
   "metadata": {},
   "source": [
    "So while the binary classifier to determine if it is an alpha or not... our accuracy score for exact character types was very poor.  "
   ]
  },
  {
   "cell_type": "code",
   "execution_count": null,
   "metadata": {},
   "outputs": [],
   "source": []
  }
 ],
 "metadata": {
  "kernelspec": {
   "display_name": "Python 3",
   "language": "python",
   "name": "python3"
  },
  "language_info": {
   "codemirror_mode": {
    "name": "ipython",
    "version": 3
   },
   "file_extension": ".py",
   "mimetype": "text/x-python",
   "name": "python",
   "nbconvert_exporter": "python",
   "pygments_lexer": "ipython3",
   "version": "3.6.3"
  }
 },
 "nbformat": 4,
 "nbformat_minor": 2
}
