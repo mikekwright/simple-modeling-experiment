{
 "cells": [
  {
   "cell_type": "markdown",
   "metadata": {},
   "source": [
    "## Multiple Linear Regression\n",
    "\n",
    "Now that we have had a look at linear regression with just 2 variables, lets look at regression with more. \n",
    "\n",
    "**Note: most of the contents of this notebook were created after following along with \n",
    "[this video](https://www.youtube.com/watch?v=dQNpSa-bq4M&list=PLIeGtxpvyG-IqjoU8IiF0Yu1WtxNq_4z-)**\n",
    " \n",
    "Lets start by loading common library pieces. "
   ]
  },
  {
   "cell_type": "code",
   "execution_count": 1,
   "metadata": {},
   "outputs": [],
   "source": [
    "import matplotlib.pyplot as plt\n",
    "\n",
    "%matplotlib inline"
   ]
  },
  {
   "cell_type": "markdown",
   "metadata": {},
   "source": [
    "Now lets start by loading our dataset."
   ]
  },
  {
   "cell_type": "code",
   "execution_count": 2,
   "metadata": {},
   "outputs": [],
   "source": [
    "import os\n",
    "import json\n",
    "import random\n",
    "\n",
    "from pprint import pprint\n",
    "\n",
    "data_dir = os.path.join('..', 'raw_data', 'iris')\n",
    "dataset_filename = os.path.join(data_dir, 'iris_data.json')\n",
    "\n",
    "with open(dataset_filename, 'r') as iris_file:\n",
    "    iris_data = json.load(iris_file)\n",
    "        \n",
    "#pprint(iris_data[:1])\n",
    "#[{'petal_length': 1.4,\n",
    "#  'petal_width': 0.2,\n",
    "#  'sepal_length': 5.1,\n",
    "#  'sepal_width': 3.5,\n",
    "#  'species': 'Iris-setosa'}]"
   ]
  },
  {
   "cell_type": "markdown",
   "metadata": {},
   "source": [
    "## Data Analysis\n",
    "\n",
    "In our past notebook we looked at how the petal length effects the petal width.  For this model we are going to add in the idea of the sepal length to see how that effects the petal width. \n",
    "\n",
    "* Independent Variables:\n",
    "  - petal_length\n",
    "  - sepal_length\n",
    "* Dependent Variable:\n",
    "  - petal_width\n",
    "\n",
    "One important item to bring up is that just by adding more independant variables does not make a model better, but can lead to predictions that are actually worse in the long run.  This is called **OVERFITTING**.  \n",
    "\n",
    "Also when more independent variables create more relationships among them. So not only are the independent variables potentitally related to the dependent variable, they are also potentially related to each other.  When this happens it is called **MULTICOLLINEARITY**.  \n",
    "\n",
    "The ideal world is for the independent variables to be related with the dependent variable, but not with each other.  \n",
    "\n",
    "**This is why using sepal_width as well as sepal_length could be bad**\n",
    "\n",
    "Part of the \"art\" of linear regression is to pick which independent variables provide value and which ones don't towards the dependent variable.  "
   ]
  },
  {
   "cell_type": "markdown",
   "metadata": {},
   "source": [
    "### Multiple Regression Equations\n",
    "\n",
    "* Multiple Regression Model\n",
    "$$y = \\beta_0 + \\beta_1 x_1 + \\beta_2 x_2 + ... + \\beta_p x_p + \\epsilon$$\n",
    "\n",
    "* Multiple Regression Equation\n",
    "$$y = \\beta_0 + \\beta_1 x_1 + \\beta_2 x_2 + ... + \\beta_p x_p$$\n",
    "\n",
    "* Estimated Regression Equation\n",
    "$$\\hat{y} = b_0 + b_1 x_1 + b_2 x_2 + ... + b_p x_p$$\n",
    "\n",
    "Now when we have an equation with multiple variables it is important to understand how they relate.  If we were to\n",
    "take an example equation below. \n",
    "\n",
    "$$\\hat{y} = 1.6 + 3.2 x_1 + 4.1 x_2$$\n",
    "\n",
    "given:\n",
    "\n",
    "- $x_1$ is petal length (cm)\n",
    "- $x_2$ is sepal length (cm)\n",
    "\n",
    "We can interpret the relationship that the variable has to the petal width ($\\hat{y}$) by taking a single variable and stating the change to $\\hat{y}$ that will take place when all other variables are constant.   \n",
    "\n",
    "So that means that the petal width will have an increase of 3.2 cm when the corresponding petal length ($x_1$) has an increase of 1 cm. "
   ]
  },
  {
   "cell_type": "markdown",
   "metadata": {},
   "source": [
    "## Finding $\\beta$ \n",
    "\n",
    "In multiple linear regression we have an equation where each unique variable (feature) is given a coefficient that is used to calculate the\n",
    "dependent variable.  Our equations would look something like the below.  \n",
    "\n",
    "$$\\hat{y} = \\beta_0x_0 + \\beta_1x_1 + ... + \\beta_px_p + \\epsilon$$\n",
    "\n",
    "Basically each coefficient is a value of how much the result can be explained by the variable given the other variables are constant.  \n",
    "\n",
    "Much like single variable linear regression we need to determine the residual \n"
   ]
  },
  {
   "cell_type": "code",
   "execution_count": null,
   "metadata": {},
   "outputs": [],
   "source": []
  }
 ],
 "metadata": {
  "kernelspec": {
   "display_name": "Python 3",
   "language": "python",
   "name": "python3"
  },
  "language_info": {
   "codemirror_mode": {
    "name": "ipython",
    "version": 3
   },
   "file_extension": ".py",
   "mimetype": "text/x-python",
   "name": "python",
   "nbconvert_exporter": "python",
   "pygments_lexer": "ipython3",
   "version": "3.6.3"
  }
 },
 "nbformat": 4,
 "nbformat_minor": 2
}
