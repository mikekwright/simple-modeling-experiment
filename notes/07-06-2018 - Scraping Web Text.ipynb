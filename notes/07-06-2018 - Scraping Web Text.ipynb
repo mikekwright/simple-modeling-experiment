{
 "cells": [
  {
   "cell_type": "markdown",
   "metadata": {},
   "source": [
    "Scraping Data from the Web\n",
    "=====================================\n",
    "\n",
    "For today we are going to look at creating a few scripts that we can use to scrape data from the web in a couple\n",
    "of different fields.  \n",
    "\n",
    "1. Medical Data\n",
    "2. Sports Data\n",
    "3. General News Articles\n",
    "\n",
    "We are going to use `requests` and `beautifulsoup4` to accomplish this task.  The first step is to determine the sources\n",
    "of the data.  "
   ]
  },
  {
   "cell_type": "code",
   "execution_count": 115,
   "metadata": {},
   "outputs": [],
   "source": [
    "import bs4\n",
    "import requests\n",
    "import itertools\n",
    "import json\n",
    "import os\n",
    "\n",
    "from bs4 import BeautifulSoup"
   ]
  },
  {
   "cell_type": "markdown",
   "metadata": {},
   "source": [
    "Before we start going through the different sources, the first thing that we want to create is a helper function\n",
    "that we can use to easily return the `status_code` and the `content`.  We also want it to retry at least 3 times\n",
    "in the case of a failed url (likely introducing some sort of wait between requests).  "
   ]
  },
  {
   "cell_type": "code",
   "execution_count": 123,
   "metadata": {},
   "outputs": [],
   "source": [
    "def retry_get(url, retry_count=3):\n",
    "    attempt_count = 0\n",
    "    while True:\n",
    "        try:\n",
    "            attempt_count += 1\n",
    "            result = requests.get(url)\n",
    "            code = result.status_code\n",
    "            content = result.content\n",
    "            \n",
    "            if code >= 200 and code < 300:\n",
    "                return code, content\n",
    "\n",
    "            if attempt_count > retry_count:\n",
    "                return code, content\n",
    "            \n",
    "        except Exception as e:\n",
    "            print(f'Url {url} failed {attempt_count} times - last error {e}')\n",
    "            if attempt_count > retry_count:\n",
    "                return -1, None"
   ]
  },
  {
   "cell_type": "markdown",
   "metadata": {},
   "source": [
    "## Medical Sources\n",
    "\n",
    "So there are a couple of sources that I am going to look into for data that should be \"medical\" in nature.  \n",
    "\n",
    "First is [Medical News Today](https://www.medicalnewstoday.com) which has a list of all its archieved articles\n",
    "at the link `https://www.medicalnewstoday.com/archive/<page_number>` with the exclusion of the `page_number`\n",
    "defaulting to the most recent articles.  \n",
    "\n",
    "When I first looked at the url there were 1-37 different pages, however when expliciting putting in `page_number`\n",
    "of 37 it showed that it goes up to **93** different pages with articles.  To start let me give a break down\n",
    "of the html in the \"archive\" page.  \n",
    "\n",
    "In the body of the page the list of different articles can be found un the following tag.  \n",
    "\n",
    "        <ul class='listing'>\n",
    "            <li class='article'>\n",
    "                <a href='/artiles/<number>.php' title='Some article title'>\n",
    "                    ...\n",
    "                    <span class='story_metadata'>\n",
    "                         <span class='story_date'>7 Apr 2016</span>\n",
    "                    </span>\n",
    "                </a>\n",
    "            </li>\n",
    "        </ul>\n",
    "        \n",
    "So our first little function is going to get the html for the \"archive\" page and return a list of refs and titles\n",
    "as well as the class name of the link (there are currently 3 different ones I have seen: `article`, `knowledge`,\n",
    "`featured`).  \n",
    "\n"
   ]
  },
  {
   "cell_type": "code",
   "execution_count": 124,
   "metadata": {},
   "outputs": [],
   "source": [
    "def get_articles_from_archive_page(page_number=None):\n",
    "    base_url = 'https://www.medicalnewstoday.com'\n",
    "    archive_url = f'{base_url}/archive/'\n",
    "    if page_number is not None:\n",
    "        archive_url = archive_url + str(page_number)\n",
    "\n",
    "    try:\n",
    "        status_code, content = retry_get(archive_url)\n",
    "\n",
    "        if status_code < 200 or status_code >= 300:\n",
    "            return status_code, []\n",
    "\n",
    "        soup = BeautifulSoup(content, 'html5lib')\n",
    "\n",
    "        article_list = soup.find('ul', class_='listing')\n",
    "        articles = article_list.find_all('li')\n",
    "    except Exception as e:\n",
    "        print(f'Failed to get details from {archive_url} - {e}')\n",
    "        return -1, []\n",
    "    \n",
    "    return status_code, [\n",
    "        { \n",
    "            'link': f'{base_url}{listing.a[\"href\"]}',\n",
    "            'title': listing.a['title'],\n",
    "            'type': listing['class'][0],\n",
    "            'span_class': listing.span['class'][0],\n",
    "            'span_text': listing.span.text.strip(),\n",
    "            'time': listing.find('span', class_='story_metadata').span.text\n",
    "        } for listing in articles\n",
    "    ]        \n",
    "    "
   ]
  },
  {
   "cell_type": "code",
   "execution_count": 125,
   "metadata": {},
   "outputs": [
    {
     "data": {
      "text/plain": [
       "200"
      ]
     },
     "metadata": {},
     "output_type": "display_data"
    },
    {
     "data": {
      "text/plain": [
       "[{'link': 'https://www.medicalnewstoday.com/articles/308044.php',\n",
       "  'title': 'Hemp: Health Benefits, Nutritional Information',\n",
       "  'type': 'knowledge',\n",
       "  'span_class': 'headline',\n",
       "  'span_text': 'Hemp: Health Benefits, Nutritional Information',\n",
       "  'time': '7 Apr 2016'},\n",
       " {'link': 'https://www.medicalnewstoday.com/articles/308273.php',\n",
       "  'title': 'Social media use and depression linked in large study',\n",
       "  'type': 'written',\n",
       "  'span_class': 'headline',\n",
       "  'span_text': 'Social media use and depression linked in large study',\n",
       "  'time': '23 Mar 2016'}]"
      ]
     },
     "metadata": {},
     "output_type": "display_data"
    }
   ],
   "source": [
    "status_code, articles = get_articles_from_archive_page(93)\n",
    "display(status_code, articles[:2])"
   ]
  },
  {
   "cell_type": "markdown",
   "metadata": {},
   "source": [
    "So now that we have a function that will return all the links.  We need to create code that will iterate through\n",
    "all the articles and pull the data that we care about on the page.  \n",
    "\n",
    "We are going to look at a couple of different pages to see if the schemas are the same.  So here is the first\n",
    "one, which is checked from [https://www.medicalnewstoday.com/articles/308044.php](https://www.medicalnewstoday.com/articles/308044.php).  \n",
    "\n",
    "#### Format\n",
    "\n",
    "The article is found inside of the:\n",
    "\n",
    "    <div class='article_body'>\n",
    "        <div itemprop='articleBody'>\n",
    "            ...\n",
    "        </div>\n",
    "        <p id='advertiser_disclosure'>\n",
    "           ...\n",
    "        </p>\n",
    "    </div>\n",
    "    \n",
    "So there are a few other tags in the page that we want to ignore or remove the text from, namely.  \n",
    "\n",
    "    <div class='article_toc ...'> ... </div>\n",
    "    <span class='imageWidgetWrapper'> ... </span>\n",
    "    <div class='... leaderboard'>\n",
    "    <script> ... </script>\n",
    "    <img> ... </img>\n",
    "    <div class='... related_inline ...'> ... </div>\n",
    "    \n",
    "So lets create a function that will read a page from a link and parse out just the text that we care about\n",
    "given that page.  (We could maybe verify by making sure the body has these two classes `article` and `v2`).  "
   ]
  },
  {
   "cell_type": "code",
   "execution_count": 126,
   "metadata": {},
   "outputs": [],
   "source": [
    "def read_article_text(url):\n",
    "    try:\n",
    "        status_code, content = retry_get(url)\n",
    "        \n",
    "        if status_code < 200 or status_code >= 300:\n",
    "            return status_code, str(content)\n",
    "\n",
    "        soup = BeautifulSoup(content, 'html5lib')\n",
    "        article_tag = soup.find('div', class_='article_body')\n",
    "        article_body = article_tag.find('div', itemprop='articleBody')\n",
    "\n",
    "        tags_to_remove = itertools.chain(*[\n",
    "            article_body.find_all('script'),\n",
    "            article_body.find_all('div', class_='article_toc'),\n",
    "            article_body.find_all('span', class_='imageWidgetWrapper'),\n",
    "            article_body.find_all('div', class_='leaderboard'),\n",
    "            article_body.find_all('img'),\n",
    "            article_body.find_all('div', class_='related_inline'),\n",
    "            article_body.find_all('div', class_='photobox_right'),\n",
    "            article_body.find_all('div', class_='photobox_left')\n",
    "        ])\n",
    "\n",
    "        for tag in tags_to_remove:\n",
    "            tag.extract()\n",
    "\n",
    "        return status_code, article_body.get_text()\n",
    "    except Exception as e:\n",
    "        print(f'Failed to read article {url} - {e}')\n",
    "        return -1, None"
   ]
  },
  {
   "cell_type": "code",
   "execution_count": 127,
   "metadata": {},
   "outputs": [
    {
     "name": "stdout",
     "output_type": "stream",
     "text": [
      "200\n",
      "Hemp is a plant grown in the northern hemisphere that takes about 3-4 months to mature. Hemp seeds can be consumed or used to produce a variety of food products including hemp milk, hemp oil, hemp cheese substitutes and hemp-based protein powder.\n",
      "Hemp seeds have a mild, nutty flavor. Hemp milk is made from hulled hemp seeds, water, and sweetener. Hemp oil has a strong \"grassy\" flavor.\n",
      "\n",
      "\n",
      "\n",
      "Hemp is commonly confused with marijuana. It belongs to the same family, but the two plants are very dif...\n"
     ]
    }
   ],
   "source": [
    "status_code, page_details = read_article_text('https://www.medicalnewstoday.com/articles/308044.php')\n",
    "print(status_code)\n",
    "print(page_details[:500].strip() + '...')"
   ]
  },
  {
   "cell_type": "markdown",
   "metadata": {},
   "source": [
    "### Gathering for the entire site\n",
    "\n",
    "We have the two different steps we need to combine into one.  This step will take the list of `page_numbers` to gather\n",
    "data for and location to save the results to (as a json file).  "
   ]
  },
  {
   "cell_type": "code",
   "execution_count": 128,
   "metadata": {},
   "outputs": [],
   "source": [
    "def read_from_medicalnewstoday(page_numbers, save_filename):\n",
    "    results = {}\n",
    "    for page_number in page_numbers:\n",
    "        code, articles = get_articles_from_archive_page(page_number)\n",
    "        if code < 200 or code >= 300:\n",
    "            results[page_number] = (code, articles)\n",
    "            continue\n",
    "            \n",
    "        for article in articles:\n",
    "            code, text = read_article_text(article['link'])\n",
    "            article['status_code'] = code\n",
    "            article['text'] = text\n",
    "\n",
    "        results[page_number] = articles\n",
    "    \n",
    "    with open(save_filename, 'w') as f:\n",
    "        json.dump(results, f, indent=4)"
   ]
  },
  {
   "cell_type": "code",
   "execution_count": 122,
   "metadata": {},
   "outputs": [],
   "source": [
    "page_nums = list(range(1, 6))\n",
    "file_name = f'medicalnewstoday-{page_nums[0]}-{page_nums[-1]}.json'\n",
    "read_from_medicalnewstoday(page_nums, os.path.join('..', 'raw_data', 'docs', 'medical', file_name))"
   ]
  },
  {
   "cell_type": "code",
   "execution_count": 129,
   "metadata": {},
   "outputs": [],
   "source": [
    "page_nums = list(range(6, 11))\n",
    "file_name = f'medicalnewstoday-{page_nums[0]}-{page_nums[-1]}.json'\n",
    "read_from_medicalnewstoday(page_nums, os.path.join('..', 'raw_data', 'docs', 'medical', file_name))"
   ]
  },
  {
   "cell_type": "markdown",
   "metadata": {},
   "source": [
    "Ok so we have the first two groups (1-10) so lets create the different page groups"
   ]
  },
  {
   "cell_type": "code",
   "execution_count": 135,
   "metadata": {},
   "outputs": [
    {
     "data": {
      "text/plain": [
       "[[11, 12, 13, 14, 15],\n",
       " [16, 17, 18, 19, 20],\n",
       " [21, 22, 23, 24, 25],\n",
       " [26, 27, 28, 29, 30],\n",
       " [31, 32, 33, 34, 35],\n",
       " [36, 37, 38, 39, 40],\n",
       " [41, 42, 43, 44, 45],\n",
       " [46, 47, 48, 49, 50],\n",
       " [51, 52, 53, 54, 55],\n",
       " [56, 57, 58, 59, 60],\n",
       " [61, 62, 63, 64, 65],\n",
       " [66, 67, 68, 69, 70],\n",
       " [71, 72, 73, 74, 75],\n",
       " [76, 77, 78, 79, 80],\n",
       " [81, 82, 83, 84, 85],\n",
       " [86, 87, 88, 89, 90],\n",
       " [91, 92, 93]]"
      ]
     },
     "metadata": {},
     "output_type": "display_data"
    }
   ],
   "source": [
    "page_groups = [list(range(11 + (i * 5), 11 + 5 + (i * 5))) for i in range(16) ]\n",
    "page_groups.append(list(range(91, 94)))\n",
    "display(page_groups)"
   ]
  },
  {
   "cell_type": "code",
   "execution_count": 136,
   "metadata": {},
   "outputs": [
    {
     "name": "stdout",
     "output_type": "stream",
     "text": [
      "Handling page nums [11, 12, 13, 14, 15]\n",
      "Handling page nums [16, 17, 18, 19, 20]\n",
      "Handling page nums [21, 22, 23, 24, 25]\n",
      "Handling page nums [26, 27, 28, 29, 30]\n",
      "Handling page nums [31, 32, 33, 34, 35]\n",
      "Url https://www.medicalnewstoday.com/articles/321148.php failed 1 times - last error HTTPSConnectionPool(host='www.medicalnewstoday.com', port=443): Max retries exceeded with url: /articles/321148.php (Caused by NewConnectionError('<urllib3.connection.VerifiedHTTPSConnection object at 0x000002174EB16630>: Failed to establish a new connection: [WinError 10060] A connection attempt failed because the connected party did not properly respond after a period of time, or established connection failed because connected host has failed to respond',))\n",
      "Handling page nums [36, 37, 38, 39, 40]\n",
      "Failed to read article https://www.medicalnewstoday.com/articles/221369.php - 'NoneType' object has no attribute 'find'\n",
      "Failed to read article https://www.medicalnewstoday.com/articles/226119.php - 'NoneType' object has no attribute 'find'\n",
      "Failed to read article https://www.medicalnewstoday.com/articles/226098.php - 'NoneType' object has no attribute 'find'\n",
      "Handling page nums [41, 42, 43, 44, 45]\n",
      "Failed to read article https://www.medicalnewstoday.com/articles/232012.php - 'NoneType' object has no attribute 'find'\n",
      "Failed to read article https://www.medicalnewstoday.com/articles/233167.php - 'NoneType' object has no attribute 'find'\n",
      "Failed to read article https://www.medicalnewstoday.com/articles/233016.php - 'NoneType' object has no attribute 'find'\n",
      "Failed to read article https://www.medicalnewstoday.com/articles/234709.php - 'NoneType' object has no attribute 'find'\n",
      "Handling page nums [46, 47, 48, 49, 50]\n",
      "Failed to read article https://www.medicalnewstoday.com/articles/236690.php - 'NoneType' object has no attribute 'find'\n",
      "Failed to read article https://www.medicalnewstoday.com/articles/236023.php - 'NoneType' object has no attribute 'find'\n",
      "Failed to read article https://www.medicalnewstoday.com/articles/237840.php - 'NoneType' object has no attribute 'find'\n",
      "Failed to read article https://www.medicalnewstoday.com/articles/237596.php - 'NoneType' object has no attribute 'find'\n",
      "Url https://www.medicalnewstoday.com/articles/238449.php failed 1 times - last error HTTPSConnectionPool(host='www.medicalnewstoday.com', port=443): Max retries exceeded with url: /articles/238449.php (Caused by NewConnectionError('<urllib3.connection.VerifiedHTTPSConnection object at 0x000002174F97B630>: Failed to establish a new connection: [WinError 10060] A connection attempt failed because the connected party did not properly respond after a period of time, or established connection failed because connected host has failed to respond',))\n",
      "Failed to read article https://www.medicalnewstoday.com/articles/238223.php - 'NoneType' object has no attribute 'find'\n",
      "Failed to read article https://www.medicalnewstoday.com/articles/239367.php - 'NoneType' object has no attribute 'find'\n",
      "Failed to read article https://www.medicalnewstoday.com/articles/240488.php - 'NoneType' object has no attribute 'find'\n",
      "Url https://www.medicalnewstoday.com/articles/240485.php failed 1 times - last error HTTPSConnectionPool(host='www.medicalnewstoday.com', port=443): Max retries exceeded with url: /articles/240485.php (Caused by NewConnectionError('<urllib3.connection.VerifiedHTTPSConnection object at 0x000002174EF90160>: Failed to establish a new connection: [WinError 10060] A connection attempt failed because the connected party did not properly respond after a period of time, or established connection failed because connected host has failed to respond',))\n",
      "Url https://www.medicalnewstoday.com/articles/240325.php failed 1 times - last error HTTPSConnectionPool(host='www.medicalnewstoday.com', port=443): Max retries exceeded with url: /articles/240325.php (Caused by NewConnectionError('<urllib3.connection.VerifiedHTTPSConnection object at 0x000002174EF906D8>: Failed to establish a new connection: [WinError 10060] A connection attempt failed because the connected party did not properly respond after a period of time, or established connection failed because connected host has failed to respond',))\n",
      "Handling page nums [51, 52, 53, 54, 55]\n",
      "Failed to read article https://www.medicalnewstoday.com/articles/242089.php - 'NoneType' object has no attribute 'find'\n",
      "Failed to read article https://www.medicalnewstoday.com/articles/243328.php - 'NoneType' object has no attribute 'find'\n",
      "Url https://www.medicalnewstoday.com/articles/245531.php failed 1 times - last error Exceeded 30 redirects.\n",
      "Url https://www.medicalnewstoday.com/articles/245531.php failed 2 times - last error Exceeded 30 redirects.\n",
      "Url https://www.medicalnewstoday.com/articles/245531.php failed 3 times - last error Exceeded 30 redirects.\n",
      "Url https://www.medicalnewstoday.com/articles/245531.php failed 4 times - last error Exceeded 30 redirects.\n",
      "Failed to read article https://www.medicalnewstoday.com/articles/244753.php - 'NoneType' object has no attribute 'find'\n",
      "Handling page nums [56, 57, 58, 59, 60]\n",
      "Failed to read article https://www.medicalnewstoday.com/articles/247036.php - 'NoneType' object has no attribute 'find'\n",
      "Failed to read article https://www.medicalnewstoday.com/articles/247591.php - 'NoneType' object has no attribute 'find'\n",
      "Failed to read article https://www.medicalnewstoday.com/articles/249291.php - 'NoneType' object has no attribute 'find'\n",
      "Failed to read article https://www.medicalnewstoday.com/articles/249066.php - 'NoneType' object has no attribute 'find'\n",
      "Handling page nums [61, 62, 63, 64, 65]\n",
      "Failed to read article https://www.medicalnewstoday.com/articles/251295.php - 'NoneType' object has no attribute 'find'\n",
      "Failed to read article https://www.medicalnewstoday.com/articles/250911.php - 'NoneType' object has no attribute 'find'\n",
      "Failed to read article https://www.medicalnewstoday.com/articles/253490.php - 'NoneType' object has no attribute 'find'\n",
      "Failed to read article https://www.medicalnewstoday.com/articles/252751.php - 'NoneType' object has no attribute 'find'\n",
      "Failed to read article https://www.medicalnewstoday.com/articles/252636.php - 'NoneType' object has no attribute 'find'\n",
      "Failed to read article https://www.medicalnewstoday.com/articles/253825.php - 'NoneType' object has no attribute 'find'\n",
      "Failed to read article https://www.medicalnewstoday.com/articles/258054.php - 'NoneType' object has no attribute 'find'\n",
      "Failed to read article https://www.medicalnewstoday.com/articles/257045.php - 'NoneType' object has no attribute 'find'\n",
      "Failed to read article https://www.medicalnewstoday.com/articles/256969.php - 'NoneType' object has no attribute 'find'\n",
      "Handling page nums [66, 67, 68, 69, 70]\n",
      "Failed to read article https://www.medicalnewstoday.com/articles/259942.php - 'NoneType' object has no attribute 'find'\n",
      "Failed to read article https://www.medicalnewstoday.com/articles/260469.php - 'NoneType' object has no attribute 'find'\n",
      "Failed to read article https://www.medicalnewstoday.com/articles/260407.php - 'NoneType' object has no attribute 'find'\n",
      "Failed to read article https://www.medicalnewstoday.com/articles/265096.php - 'NoneType' object has no attribute 'find'\n",
      "Failed to read article https://www.medicalnewstoday.com/articles/264446.php - 'NoneType' object has no attribute 'find'\n",
      "Handling page nums [71, 72, 73, 74, 75]\n",
      "Failed to read article https://www.medicalnewstoday.com/articles/267235.php - 'NoneType' object has no attribute 'find'\n",
      "Failed to read article https://www.medicalnewstoday.com/articles/266424.php - 'NoneType' object has no attribute 'find'\n",
      "Failed to read article https://www.medicalnewstoday.com/articles/267826.php - 'NoneType' object has no attribute 'find'\n",
      "Failed to read article https://www.medicalnewstoday.com/articles/270849.php - 'NoneType' object has no attribute 'find'\n",
      "Failed to read article https://www.medicalnewstoday.com/articles/272645.php - 'NoneType' object has no attribute 'find'\n",
      "Failed to read article https://www.medicalnewstoday.com/articles/274743.php - 'NoneType' object has no attribute 'find'\n",
      "Failed to read article https://www.medicalnewstoday.com/articles/274050.php - 'NoneType' object has no attribute 'find'\n",
      "Handling page nums [76, 77, 78, 79, 80]\n",
      "Failed to read article https://www.medicalnewstoday.com/articles/276531.php - 'NoneType' object has no attribute 'find'\n",
      "Failed to read article https://www.medicalnewstoday.com/articles/274774.php - 'NoneType' object has no attribute 'find'\n",
      "Failed to read article https://www.medicalnewstoday.com/articles/278592.php - 'NoneType' object has no attribute 'find'\n",
      "Failed to read article https://www.medicalnewstoday.com/articles/279461.php - 'NoneType' object has no attribute 'find'\n",
      "Failed to read article https://www.medicalnewstoday.com/articles/281873.php - 'NoneType' object has no attribute 'find'\n",
      "Failed to read article https://www.medicalnewstoday.com/articles/280864.php - 'NoneType' object has no attribute 'find'\n",
      "Failed to read article https://www.medicalnewstoday.com/articles/283718.php - 'NoneType' object has no attribute 'find'\n",
      "Failed to read article https://www.medicalnewstoday.com/articles/283547.php - 'NoneType' object has no attribute 'find'\n",
      "Failed to read article https://www.medicalnewstoday.com/articles/283459.php - 'NoneType' object has no attribute 'find'\n",
      "Failed to read article https://www.medicalnewstoday.com/articles/282978.php - 'NoneType' object has no attribute 'find'\n",
      "Handling page nums [81, 82, 83, 84, 85]\n",
      "Failed to read article https://www.medicalnewstoday.com/articles/285963.php - 'NoneType' object has no attribute 'find'\n",
      "Failed to read article https://www.medicalnewstoday.com/articles/285489.php - 'NoneType' object has no attribute 'find'\n",
      "Failed to read article https://www.medicalnewstoday.com/articles/284535.php - 'NoneType' object has no attribute 'find'\n",
      "Failed to read article https://www.medicalnewstoday.com/articles/287916.php - 'NoneType' object has no attribute 'find'\n",
      "Failed to read article https://www.medicalnewstoday.com/articles/287242.php - 'NoneType' object has no attribute 'find'\n",
      "Failed to read article https://www.medicalnewstoday.com/articles/287252.php - 'NoneType' object has no attribute 'find'\n",
      "Failed to read article https://www.medicalnewstoday.com/articles/286978.php - 'NoneType' object has no attribute 'find'\n",
      "Failed to read article https://www.medicalnewstoday.com/articles/286977.php - 'NoneType' object has no attribute 'find'\n",
      "Failed to read article https://www.medicalnewstoday.com/articles/286967.php - 'NoneType' object has no attribute 'find'\n",
      "Failed to read article https://www.medicalnewstoday.com/articles/289848.php - 'NoneType' object has no attribute 'find'\n",
      "Failed to read article https://www.medicalnewstoday.com/articles/289825.php - 'NoneType' object has no attribute 'find'\n",
      "Failed to read article https://www.medicalnewstoday.com/articles/289506.php - 'NoneType' object has no attribute 'find'\n",
      "Failed to read article https://www.medicalnewstoday.com/articles/289301.php - 'NoneType' object has no attribute 'find'\n",
      "Failed to read article https://www.medicalnewstoday.com/articles/289092.php - 'NoneType' object has no attribute 'find'\n",
      "Failed to read article https://www.medicalnewstoday.com/articles/291829.php - 'NoneType' object has no attribute 'find'\n",
      "Failed to read article https://www.medicalnewstoday.com/articles/291741.php - 'NoneType' object has no attribute 'find'\n",
      "Failed to read article https://www.medicalnewstoday.com/articles/290618.php - 'NoneType' object has no attribute 'find'\n",
      "Failed to read article https://www.medicalnewstoday.com/articles/290528.php - 'NoneType' object has no attribute 'find'\n",
      "Failed to read article https://www.medicalnewstoday.com/articles/293718.php - 'NoneType' object has no attribute 'find'\n",
      "Url https://www.medicalnewstoday.com/articles/292924.php failed 1 times - last error HTTPSConnectionPool(host='www.medicalnewstoday.com', port=443): Max retries exceeded with url: /articles/292924.php (Caused by NewConnectionError('<urllib3.connection.VerifiedHTTPSConnection object at 0x000002174FC82BA8>: Failed to establish a new connection: [WinError 10060] A connection attempt failed because the connected party did not properly respond after a period of time, or established connection failed because connected host has failed to respond',))\n",
      "Failed to read article https://www.medicalnewstoday.com/articles/292507.php - 'NoneType' object has no attribute 'find'\n",
      "Handling page nums [86, 87, 88, 89, 90]\n",
      "Failed to read article https://www.medicalnewstoday.com/articles/294632.php - 'NoneType' object has no attribute 'find'\n",
      "Failed to read article https://www.medicalnewstoday.com/articles/294670.php - 'NoneType' object has no attribute 'find'\n",
      "Failed to read article https://www.medicalnewstoday.com/articles/294382.php - 'NoneType' object has no attribute 'find'\n",
      "Failed to read article https://www.medicalnewstoday.com/articles/296000.php - 'NoneType' object has no attribute 'find'\n",
      "Failed to read article https://www.medicalnewstoday.com/articles/298106.php - 'NoneType' object has no attribute 'find'\n",
      "Failed to read article https://www.medicalnewstoday.com/articles/298052.php - 'NoneType' object has no attribute 'find'\n",
      "Failed to read article https://www.medicalnewstoday.com/articles/300618.php - 'NoneType' object has no attribute 'find'\n",
      "Failed to read article https://www.medicalnewstoday.com/articles/299490.php - 'NoneType' object has no attribute 'find'\n",
      "Failed to read article https://www.medicalnewstoday.com/articles/299353.php - 'NoneType' object has no attribute 'find'\n",
      "Handling page nums [91, 92, 93]\n"
     ]
    }
   ],
   "source": [
    "for page_nums in page_groups:\n",
    "    print(f'Handling page nums {page_nums}')\n",
    "    file_name = f'medicalnewstoday-{page_nums[0]}-{page_nums[-1]}.json'\n",
    "    read_from_medicalnewstoday(page_nums, os.path.join('..', 'raw_data', 'docs', 'medical', file_name))"
   ]
  },
  {
   "cell_type": "markdown",
   "metadata": {},
   "source": [
    "Alright all files have been downloaded, these are the raw files, the final step I have is to take the raw files\n",
    "and remove any links that errored out.  "
   ]
  },
  {
   "cell_type": "code",
   "execution_count": 145,
   "metadata": {},
   "outputs": [],
   "source": [
    "#os.chdir(os.path.join('..', 'raw_data', 'docs', 'medical'))\n",
    "\n",
    "files = [f for f in os.listdir() if f.endswith('.json') and f != 'medicalnewstoday-all-ok.json']\n",
    "data_values = []\n",
    "for f in files:\n",
    "    with open(f, 'r') as data_file:\n",
    "        data_values.append(list(json.load(data_file).values()))\n",
    "        \n",
    "values = [v for v in itertools.chain(*[d for d in itertools.chain(*data_values)])]\n",
    "ok_values = [d for d in values if d['status_code'] >= 200 and d['status_code'] < 300]\n",
    "\n",
    "with open('medicalnewstoday-all-ok.json', 'w') as out:\n",
    "    json.dump(ok_values, out, indent=2)"
   ]
  },
  {
   "cell_type": "code",
   "execution_count": null,
   "metadata": {},
   "outputs": [],
   "source": []
  }
 ],
 "metadata": {
  "kernelspec": {
   "display_name": "Python 3",
   "language": "python",
   "name": "python3"
  },
  "language_info": {
   "codemirror_mode": {
    "name": "ipython",
    "version": 3
   },
   "file_extension": ".py",
   "mimetype": "text/x-python",
   "name": "python",
   "nbconvert_exporter": "python",
   "pygments_lexer": "ipython3",
   "version": "3.6.5"
  }
 },
 "nbformat": 4,
 "nbformat_minor": 2
}
